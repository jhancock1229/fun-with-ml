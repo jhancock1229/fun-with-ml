{
 "cells": [
  {
   "cell_type": "code",
   "execution_count": 12,
   "metadata": {},
   "outputs": [
    {
     "output_type": "error",
     "ename": "SyntaxError",
     "evalue": "invalid syntax (<ipython-input-12-4be1b4bce99f>, line 7)",
     "traceback": [
      "\u001b[0;36m  File \u001b[0;32m\"<ipython-input-12-4be1b4bce99f>\"\u001b[0;36m, line \u001b[0;32m7\u001b[0m\n\u001b[0;31m    import ch-two-end-to-end-script as helper\u001b[0m\n\u001b[0m             ^\u001b[0m\n\u001b[0;31mSyntaxError\u001b[0m\u001b[0;31m:\u001b[0m invalid syntax\n"
     ]
    }
   ],
   "source": [
    "import os\n",
    "import pathlib\n",
    "import tarfile\n",
    "import urllib\n",
    "\n",
    "DOWNLOAD_ROOT = \"https://raw.githubusercontent.com/ageron/handson-ml2/master/\"\n",
    "HOUSING_PATH = pathlib.Path(os.path.abspath(__file__)) / \"datasets\" / \"housing\"\n",
    "HOSUING_URL = DOWNLOAD_ROOT + \"datasets/housing/housing.tgz\"\n",
    "\n",
    "def fetch_housing_data(housing_url = HOSUING_URL, housing_path = HOUSING_PATH):\n",
    "    housing_path.mkdir(parents = True, exist_ok = True)\n",
    "    tgz_path = housing_path / \"housing.tgz\"\n",
    "    urllib.request.urlretrieve(housing_url, tgz_path)\n",
    "    housing_tgz = tarfile.open(tgz_path)\n",
    "    housing_tgz.extractall(path = housing_path)\n",
    "    housing_tgz.close()"
   ]
  }
 ],
 "metadata": {
  "kernelspec": {
   "name": "python385jvsc74a57bd07bee784982869b64235b43e7eac5db350b0b7f8fc92cca0a86e5b36c896afdd2",
   "display_name": "Python 3.8.5 64-bit"
  },
  "language_info": {
   "codemirror_mode": {
    "name": "ipython",
    "version": 3
   },
   "file_extension": ".py",
   "mimetype": "text/x-python",
   "name": "python",
   "nbconvert_exporter": "python",
   "pygments_lexer": "ipython3",
   "version": "3.8.5"
  },
  "metadata": {
   "interpreter": {
    "hash": "7bee784982869b64235b43e7eac5db350b0b7f8fc92cca0a86e5b36c896afdd2"
   }
  }
 },
 "nbformat": 4,
 "nbformat_minor": 2
}